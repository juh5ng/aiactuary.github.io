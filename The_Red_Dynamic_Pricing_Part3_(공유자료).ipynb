{
  "nbformat": 4,
  "nbformat_minor": 0,
  "metadata": {
    "colab": {
      "provenance": [],
      "include_colab_link": true
    },
    "kernelspec": {
      "name": "python3",
      "display_name": "Python 3"
    },
    "language_info": {
      "name": "python"
    }
  },
  "cells": [
    {
      "cell_type": "markdown",
      "metadata": {
        "id": "view-in-github",
        "colab_type": "text"
      },
      "source": [
        "<a href=\"https://colab.research.google.com/github/juh5ng/juh5ng.github.io/blob/master/The_Red_Dynamic_Pricing_Part3_(%EA%B3%B5%EC%9C%A0%EC%9E%90%EB%A3%8C).ipynb\" target=\"_parent\"><img src=\"https://colab.research.google.com/assets/colab-badge.svg\" alt=\"Open In Colab\"/></a>"
      ]
    },
    {
      "cell_type": "code",
      "source": [],
      "metadata": {
        "id": "XzIQQnM6evQx"
      },
      "execution_count": null,
      "outputs": []
    },
    {
      "cell_type": "markdown",
      "source": [
        "##The Red: 비즈니스의 운명을 바꾸는 Dynamic Pricing\n",
        "##Part3.  시뮬레이션 기반 실습 - 다양한 수요곡선과 최적의 가격 찾기\n"
      ],
      "metadata": {
        "id": "selmxCuXZTk6"
      }
    },
    {
      "cell_type": "markdown",
      "source": [
        "# 실습환경과 목표 (계속)\n",
        "실습을 시작하기 전에, 기초적인 몸풀기를 시작해보겠습니다."
      ],
      "metadata": {
        "id": "qgVQGr8RUpBn"
      }
    },
    {
      "cell_type": "code",
      "source": [
        "import numpy as np\n",
        "import pandas as pd"
      ],
      "metadata": {
        "id": "FpXxLKvaUk6I"
      },
      "execution_count": null,
      "outputs": []
    },
    {
      "cell_type": "code",
      "source": [
        "# 간단한 numpy array 생성 \n",
        "price_points = np.arange(start=10, stop=101, step=10)\n",
        "price_points"
      ],
      "metadata": {
        "id": "Bto561IfuUhz",
        "colab": {
          "base_uri": "https://localhost:8080/"
        },
        "outputId": "136e40a7-3773-4101-d3a4-059cbef2211a"
      },
      "execution_count": null,
      "outputs": [
        {
          "output_type": "execute_result",
          "data": {
            "text/plain": [
              "array([ 10,  20,  30,  40,  50,  60,  70,  80,  90, 100])"
            ]
          },
          "metadata": {},
          "execution_count": 2
        }
      ]
    },
    {
      "cell_type": "code",
      "source": [
        "# 간단한 랜덤 array 생성\n",
        "random_points = np.random.rand(10)\n",
        "random_points"
      ],
      "metadata": {
        "colab": {
          "base_uri": "https://localhost:8080/"
        },
        "id": "RoU0L0vrXbbe",
        "outputId": "84d75994-bad4-4c05-b212-249c7a80ec1b"
      },
      "execution_count": null,
      "outputs": [
        {
          "output_type": "execute_result",
          "data": {
            "text/plain": [
              "array([0.89291797, 0.12366621, 0.8237734 , 0.56419734, 0.87006477,\n",
              "       0.22391869, 0.69456974, 0.10641927, 0.35153742, 0.54662091])"
            ]
          },
          "metadata": {},
          "execution_count": 3
        }
      ]
    },
    {
      "cell_type": "code",
      "source": [
        "# Pandas Dataframe 생성\n",
        "df = pd.DataFrame({\n",
        "  'price': price_points,\n",
        "  'random': random_points\n",
        "})\n",
        "df"
      ],
      "metadata": {
        "colab": {
          "base_uri": "https://localhost:8080/",
          "height": 363
        },
        "id": "P-2W581cVdeX",
        "outputId": "782ef2e5-29ea-4736-a849-d8db2654103a"
      },
      "execution_count": null,
      "outputs": [
        {
          "output_type": "execute_result",
          "data": {
            "text/plain": [
              "   price    random\n",
              "0     10  0.892918\n",
              "1     20  0.123666\n",
              "2     30  0.823773\n",
              "3     40  0.564197\n",
              "4     50  0.870065\n",
              "5     60  0.223919\n",
              "6     70  0.694570\n",
              "7     80  0.106419\n",
              "8     90  0.351537\n",
              "9    100  0.546621"
            ],
            "text/html": [
              "\n",
              "  <div id=\"df-f14a1c2e-5bf6-419b-a9b8-7dba9de7f14c\">\n",
              "    <div class=\"colab-df-container\">\n",
              "      <div>\n",
              "<style scoped>\n",
              "    .dataframe tbody tr th:only-of-type {\n",
              "        vertical-align: middle;\n",
              "    }\n",
              "\n",
              "    .dataframe tbody tr th {\n",
              "        vertical-align: top;\n",
              "    }\n",
              "\n",
              "    .dataframe thead th {\n",
              "        text-align: right;\n",
              "    }\n",
              "</style>\n",
              "<table border=\"1\" class=\"dataframe\">\n",
              "  <thead>\n",
              "    <tr style=\"text-align: right;\">\n",
              "      <th></th>\n",
              "      <th>price</th>\n",
              "      <th>random</th>\n",
              "    </tr>\n",
              "  </thead>\n",
              "  <tbody>\n",
              "    <tr>\n",
              "      <th>0</th>\n",
              "      <td>10</td>\n",
              "      <td>0.892918</td>\n",
              "    </tr>\n",
              "    <tr>\n",
              "      <th>1</th>\n",
              "      <td>20</td>\n",
              "      <td>0.123666</td>\n",
              "    </tr>\n",
              "    <tr>\n",
              "      <th>2</th>\n",
              "      <td>30</td>\n",
              "      <td>0.823773</td>\n",
              "    </tr>\n",
              "    <tr>\n",
              "      <th>3</th>\n",
              "      <td>40</td>\n",
              "      <td>0.564197</td>\n",
              "    </tr>\n",
              "    <tr>\n",
              "      <th>4</th>\n",
              "      <td>50</td>\n",
              "      <td>0.870065</td>\n",
              "    </tr>\n",
              "    <tr>\n",
              "      <th>5</th>\n",
              "      <td>60</td>\n",
              "      <td>0.223919</td>\n",
              "    </tr>\n",
              "    <tr>\n",
              "      <th>6</th>\n",
              "      <td>70</td>\n",
              "      <td>0.694570</td>\n",
              "    </tr>\n",
              "    <tr>\n",
              "      <th>7</th>\n",
              "      <td>80</td>\n",
              "      <td>0.106419</td>\n",
              "    </tr>\n",
              "    <tr>\n",
              "      <th>8</th>\n",
              "      <td>90</td>\n",
              "      <td>0.351537</td>\n",
              "    </tr>\n",
              "    <tr>\n",
              "      <th>9</th>\n",
              "      <td>100</td>\n",
              "      <td>0.546621</td>\n",
              "    </tr>\n",
              "  </tbody>\n",
              "</table>\n",
              "</div>\n",
              "      <button class=\"colab-df-convert\" onclick=\"convertToInteractive('df-f14a1c2e-5bf6-419b-a9b8-7dba9de7f14c')\"\n",
              "              title=\"Convert this dataframe to an interactive table.\"\n",
              "              style=\"display:none;\">\n",
              "        \n",
              "  <svg xmlns=\"http://www.w3.org/2000/svg\" height=\"24px\"viewBox=\"0 0 24 24\"\n",
              "       width=\"24px\">\n",
              "    <path d=\"M0 0h24v24H0V0z\" fill=\"none\"/>\n",
              "    <path d=\"M18.56 5.44l.94 2.06.94-2.06 2.06-.94-2.06-.94-.94-2.06-.94 2.06-2.06.94zm-11 1L8.5 8.5l.94-2.06 2.06-.94-2.06-.94L8.5 2.5l-.94 2.06-2.06.94zm10 10l.94 2.06.94-2.06 2.06-.94-2.06-.94-.94-2.06-.94 2.06-2.06.94z\"/><path d=\"M17.41 7.96l-1.37-1.37c-.4-.4-.92-.59-1.43-.59-.52 0-1.04.2-1.43.59L10.3 9.45l-7.72 7.72c-.78.78-.78 2.05 0 2.83L4 21.41c.39.39.9.59 1.41.59.51 0 1.02-.2 1.41-.59l7.78-7.78 2.81-2.81c.8-.78.8-2.07 0-2.86zM5.41 20L4 18.59l7.72-7.72 1.47 1.35L5.41 20z\"/>\n",
              "  </svg>\n",
              "      </button>\n",
              "      \n",
              "  <style>\n",
              "    .colab-df-container {\n",
              "      display:flex;\n",
              "      flex-wrap:wrap;\n",
              "      gap: 12px;\n",
              "    }\n",
              "\n",
              "    .colab-df-convert {\n",
              "      background-color: #E8F0FE;\n",
              "      border: none;\n",
              "      border-radius: 50%;\n",
              "      cursor: pointer;\n",
              "      display: none;\n",
              "      fill: #1967D2;\n",
              "      height: 32px;\n",
              "      padding: 0 0 0 0;\n",
              "      width: 32px;\n",
              "    }\n",
              "\n",
              "    .colab-df-convert:hover {\n",
              "      background-color: #E2EBFA;\n",
              "      box-shadow: 0px 1px 2px rgba(60, 64, 67, 0.3), 0px 1px 3px 1px rgba(60, 64, 67, 0.15);\n",
              "      fill: #174EA6;\n",
              "    }\n",
              "\n",
              "    [theme=dark] .colab-df-convert {\n",
              "      background-color: #3B4455;\n",
              "      fill: #D2E3FC;\n",
              "    }\n",
              "\n",
              "    [theme=dark] .colab-df-convert:hover {\n",
              "      background-color: #434B5C;\n",
              "      box-shadow: 0px 1px 3px 1px rgba(0, 0, 0, 0.15);\n",
              "      filter: drop-shadow(0px 1px 2px rgba(0, 0, 0, 0.3));\n",
              "      fill: #FFFFFF;\n",
              "    }\n",
              "  </style>\n",
              "\n",
              "      <script>\n",
              "        const buttonEl =\n",
              "          document.querySelector('#df-f14a1c2e-5bf6-419b-a9b8-7dba9de7f14c button.colab-df-convert');\n",
              "        buttonEl.style.display =\n",
              "          google.colab.kernel.accessAllowed ? 'block' : 'none';\n",
              "\n",
              "        async function convertToInteractive(key) {\n",
              "          const element = document.querySelector('#df-f14a1c2e-5bf6-419b-a9b8-7dba9de7f14c');\n",
              "          const dataTable =\n",
              "            await google.colab.kernel.invokeFunction('convertToInteractive',\n",
              "                                                     [key], {});\n",
              "          if (!dataTable) return;\n",
              "\n",
              "          const docLinkHtml = 'Like what you see? Visit the ' +\n",
              "            '<a target=\"_blank\" href=https://colab.research.google.com/notebooks/data_table.ipynb>data table notebook</a>'\n",
              "            + ' to learn more about interactive tables.';\n",
              "          element.innerHTML = '';\n",
              "          dataTable['output_type'] = 'display_data';\n",
              "          await google.colab.output.renderOutput(dataTable, element);\n",
              "          const docLink = document.createElement('div');\n",
              "          docLink.innerHTML = docLinkHtml;\n",
              "          element.appendChild(docLink);\n",
              "        }\n",
              "      </script>\n",
              "    </div>\n",
              "  </div>\n",
              "  "
            ]
          },
          "metadata": {},
          "execution_count": 4
        }
      ]
    },
    {
      "cell_type": "code",
      "source": [
        "# Pandas 에 내장된 Matplotlib을 이용 \n",
        "df.plot(x='price', y='random')"
      ],
      "metadata": {
        "colab": {
          "base_uri": "https://localhost:8080/",
          "height": 297
        },
        "id": "LcQnZSASVgh8",
        "outputId": "350645f7-3389-40ce-c4ed-38109ab82296"
      },
      "execution_count": null,
      "outputs": [
        {
          "output_type": "execute_result",
          "data": {
            "text/plain": [
              "<matplotlib.axes._subplots.AxesSubplot at 0x7f7fe4f6f750>"
            ]
          },
          "metadata": {},
          "execution_count": 5
        },
        {
          "output_type": "display_data",
          "data": {
            "text/plain": [
              "<Figure size 432x288 with 1 Axes>"
            ],
            "image/png": "[encoded data removed]"
          },
          "metadata": {
            "needs_background": "light"
          }
        }
      ]
    },
    {
      "cell_type": "code",
      "source": [
        "# 옵션 추가\n",
        "df.plot(x='price', y='random', color='tab:orange', marker='.')"
      ],
      "metadata": {
        "colab": {
          "base_uri": "https://localhost:8080/",
          "height": 297
        },
        "id": "IJW0Gk4CXVjA",
        "outputId": "c17682c6-e0ad-4478-bf3a-c1d79fca9a42"
      },
      "execution_count": null,
      "outputs": [
        {
          "output_type": "execute_result",
          "data": {
            "text/plain": [
              "<matplotlib.axes._subplots.AxesSubplot at 0x7f7fe49aed50>"
            ]
          },
          "metadata": {},
          "execution_count": 6
        },
        {
          "output_type": "display_data",
          "data": {
            "text/plain": [
              "<Figure size 432x288 with 1 Axes>"
            ],
            "image/png": "[encoded data removed]"
          },
          "metadata": {
            "needs_background": "light"
          }
        }
      ]
    },
    {
      "cell_type": "code",
      "source": [
        "# Python 함수 작성 - 간단한 선형 수요함수를 작성\n",
        "def demand(p):\n",
        "  theta0 = 100\n",
        "  theta1 = -1\n",
        "  return theta0 + theta1 * p\n",
        "\n",
        "print(demand(10))\n",
        "print(demand(20))"
      ],
      "metadata": {
        "colab": {
          "base_uri": "https://localhost:8080/"
        },
        "id": "fHUk7ZjiX6G5",
        "outputId": "52bdb77c-5d12-4735-d4e2-451f66c44fc3"
      },
      "execution_count": null,
      "outputs": [
        {
          "output_type": "stream",
          "name": "stdout",
          "text": [
            "90\n",
            "80\n"
          ]
        }
      ]
    },
    {
      "cell_type": "code",
      "source": [
        "# numpy array 의 기능을 활용\n",
        "demand_points = demand(price_points)\n",
        "demand_points"
      ],
      "metadata": {
        "colab": {
          "base_uri": "https://localhost:8080/"
        },
        "id": "dzOD_7SsYA2p",
        "outputId": "78ba79ba-836d-4802-b320-7caaf2b9944f"
      },
      "execution_count": null,
      "outputs": [
        {
          "output_type": "execute_result",
          "data": {
            "text/plain": [
              "array([90, 80, 70, 60, 50, 40, 30, 20, 10,  0])"
            ]
          },
          "metadata": {},
          "execution_count": 8
        }
      ]
    },
    {
      "cell_type": "code",
      "source": [
        "df = pd.DataFrame({\n",
        "  'price': price_points,\n",
        "  'demand': demand_points,\n",
        "})\n",
        "df"
      ],
      "metadata": {
        "colab": {
          "base_uri": "https://localhost:8080/",
          "height": 363
        },
        "id": "bsrhoBEzaCtj",
        "outputId": "a9461283-6b20-40d2-c154-177b4a4c6687"
      },
      "execution_count": null,
      "outputs": [
        {
          "output_type": "execute_result",
          "data": {
            "text/plain": [
              "   price  demand\n",
              "0     10      90\n",
              "1     20      80\n",
              "2     30      70\n",
              "3     40      60\n",
              "4     50      50\n",
              "5     60      40\n",
              "6     70      30\n",
              "7     80      20\n",
              "8     90      10\n",
              "9    100       0"
            ],
            "text/html": [
              "\n",
              "  <div id=\"df-0ba48d52-eb59-4303-8cac-92d37e2bb6ae\">\n",
              "    <div class=\"colab-df-container\">\n",
              "      <div>\n",
              "<style scoped>\n",
              "    .dataframe tbody tr th:only-of-type {\n",
              "        vertical-align: middle;\n",
              "    }\n",
              "\n",
              "    .dataframe tbody tr th {\n",
              "        vertical-align: top;\n",
              "    }\n",
              "\n",
              "    .dataframe thead th {\n",
              "        text-align: right;\n",
              "    }\n",
              "</style>\n",
              "<table border=\"1\" class=\"dataframe\">\n",
              "  <thead>\n",
              "    <tr style=\"text-align: right;\">\n",
              "      <th></th>\n",
              "      <th>price</th>\n",
              "      <th>demand</th>\n",
              "    </tr>\n",
              "  </thead>\n",
              "  <tbody>\n",
              "    <tr>\n",
              "      <th>0</th>\n",
              "      <td>10</td>\n",
              "      <td>90</td>\n",
              "    </tr>\n",
              "    <tr>\n",
              "      <th>1</th>\n",
              "      <td>20</td>\n",
              "      <td>80</td>\n",
              "    </tr>\n",
              "    <tr>\n",
              "      <th>2</th>\n",
              "      <td>30</td>\n",
              "      <td>70</td>\n",
              "    </tr>\n",
              "    <tr>\n",
              "      <th>3</th>\n",
              "      <td>40</td>\n",
              "      <td>60</td>\n",
              "    </tr>\n",
              "    <tr>\n",
              "      <th>4</th>\n",
              "      <td>50</td>\n",
              "      <td>50</td>\n",
              "    </tr>\n",
              "    <tr>\n",
              "      <th>5</th>\n",
              "      <td>60</td>\n",
              "      <td>40</td>\n",
              "    </tr>\n",
              "    <tr>\n",
              "      <th>6</th>\n",
              "      <td>70</td>\n",
              "      <td>30</td>\n",
              "    </tr>\n",
              "    <tr>\n",
              "      <th>7</th>\n",
              "      <td>80</td>\n",
              "      <td>20</td>\n",
              "    </tr>\n",
              "    <tr>\n",
              "      <th>8</th>\n",
              "      <td>90</td>\n",
              "      <td>10</td>\n",
              "    </tr>\n",
              "    <tr>\n",
              "      <th>9</th>\n",
              "      <td>100</td>\n",
              "      <td>0</td>\n",
              "    </tr>\n",
              "  </tbody>\n",
              "</table>\n",
              "</div>\n",
              "      <button class=\"colab-df-convert\" onclick=\"convertToInteractive('df-0ba48d52-eb59-4303-8cac-92d37e2bb6ae')\"\n",
              "              title=\"Convert this dataframe to an interactive table.\"\n",
              "              style=\"display:none;\">\n",
              "        \n",
              "  <svg xmlns=\"http://www.w3.org/2000/svg\" height=\"24px\"viewBox=\"0 0 24 24\"\n",
              "       width=\"24px\">\n",
              "    <path d=\"M0 0h24v24H0V0z\" fill=\"none\"/>\n",
              "    <path d=\"M18.56 5.44l.94 2.06.94-2.06 2.06-.94-2.06-.94-.94-2.06-.94 2.06-2.06.94zm-11 1L8.5 8.5l.94-2.06 2.06-.94-2.06-.94L8.5 2.5l-.94 2.06-2.06.94zm10 10l.94 2.06.94-2.06 2.06-.94-2.06-.94-.94-2.06-.94 2.06-2.06.94z\"/><path d=\"M17.41 7.96l-1.37-1.37c-.4-.4-.92-.59-1.43-.59-.52 0-1.04.2-1.43.59L10.3 9.45l-7.72 7.72c-.78.78-.78 2.05 0 2.83L4 21.41c.39.39.9.59 1.41.59.51 0 1.02-.2 1.41-.59l7.78-7.78 2.81-2.81c.8-.78.8-2.07 0-2.86zM5.41 20L4 18.59l7.72-7.72 1.47 1.35L5.41 20z\"/>\n",
              "  </svg>\n",
              "      </button>\n",
              "      \n",
              "  <style>\n",
              "    .colab-df-container {\n",
              "      display:flex;\n",
              "      flex-wrap:wrap;\n",
              "      gap: 12px;\n",
              "    }\n",
              "\n",
              "    .colab-df-convert {\n",
              "      background-color: #E8F0FE;\n",
              "      border: none;\n",
              "      border-radius: 50%;\n",
              "      cursor: pointer;\n",
              "      display: none;\n",
              "      fill: #1967D2;\n",
              "      height: 32px;\n",
              "      padding: 0 0 0 0;\n",
              "      width: 32px;\n",
              "    }\n",
              "\n",
              "    .colab-df-convert:hover {\n",
              "      background-color: #E2EBFA;\n",
              "      box-shadow: 0px 1px 2px rgba(60, 64, 67, 0.3), 0px 1px 3px 1px rgba(60, 64, 67, 0.15);\n",
              "      fill: #174EA6;\n",
              "    }\n",
              "\n",
              "    [theme=dark] .colab-df-convert {\n",
              "      background-color: #3B4455;\n",
              "      fill: #D2E3FC;\n",
              "    }\n",
              "\n",
              "    [theme=dark] .colab-df-convert:hover {\n",
              "      background-color: #434B5C;\n",
              "      box-shadow: 0px 1px 3px 1px rgba(0, 0, 0, 0.15);\n",
              "      filter: drop-shadow(0px 1px 2px rgba(0, 0, 0, 0.3));\n",
              "      fill: #FFFFFF;\n",
              "    }\n",
              "  </style>\n",
              "\n",
              "      <script>\n",
              "        const buttonEl =\n",
              "          document.querySelector('#df-0ba48d52-eb59-4303-8cac-92d37e2bb6ae button.colab-df-convert');\n",
              "        buttonEl.style.display =\n",
              "          google.colab.kernel.accessAllowed ? 'block' : 'none';\n",
              "\n",
              "        async function convertToInteractive(key) {\n",
              "          const element = document.querySelector('#df-0ba48d52-eb59-4303-8cac-92d37e2bb6ae');\n",
              "          const dataTable =\n",
              "            await google.colab.kernel.invokeFunction('convertToInteractive',\n",
              "                                                     [key], {});\n",
              "          if (!dataTable) return;\n",
              "\n",
              "          const docLinkHtml = 'Like what you see? Visit the ' +\n",
              "            '<a target=\"_blank\" href=https://colab.research.google.com/notebooks/data_table.ipynb>data table notebook</a>'\n",
              "            + ' to learn more about interactive tables.';\n",
              "          element.innerHTML = '';\n",
              "          dataTable['output_type'] = 'display_data';\n",
              "          await google.colab.output.renderOutput(dataTable, element);\n",
              "          const docLink = document.createElement('div');\n",
              "          docLink.innerHTML = docLinkHtml;\n",
              "          element.appendChild(docLink);\n",
              "        }\n",
              "      </script>\n",
              "    </div>\n",
              "  </div>\n",
              "  "
            ]
          },
          "metadata": {},
          "execution_count": 9
        }
      ]
    },
    {
      "cell_type": "code",
      "source": [
        "df.plot(x='price', y='demand', color='tab:orange', marker='.')"
      ],
      "metadata": {
        "colab": {
          "base_uri": "https://localhost:8080/",
          "height": 297
        },
        "id": "Ja1NutjgaKOr",
        "outputId": "6c9d5739-ebc2-4303-b50e-fc1dedcf00ac"
      },
      "execution_count": null,
      "outputs": [
        {
          "output_type": "execute_result",
          "data": {
            "text/plain": [
              "<matplotlib.axes._subplots.AxesSubplot at 0x7f7fe4946250>"
            ]
          },
          "metadata": {},
          "execution_count": 10
        },
        {
          "output_type": "display_data",
          "data": {
            "text/plain": [
              "<Figure size 432x288 with 1 Axes>"
            ],
            "image/png": "[encoded data removed]"
          },
          "metadata": {
            "needs_background": "light"
          }
        }
      ]
    },
    {
      "cell_type": "markdown",
      "source": [
        "따라하다보니, 기초적인 가격-수요 곡선을 그려보았습니다.  \n",
        "\n",
        "# 가격-수요 곡선\n",
        "\n",
        "\n",
        "본격적으로 시작해보겠습니다.\n",
        "좀 더 복잡한 가격-수요 곡선을 그려보고, 최적 가격을 눈으로 확인해보고, 다음으로는 최적 가격을 수식으로 계산해보겠습니다. "
      ],
      "metadata": {
        "id": "MbsKLf5LgTRL"
      }
    },
    {
      "cell_type": "code",
      "source": [
        "# 선형 가격-수요 곡선 \n",
        "def demand_linear(p):\n",
        "  theta0 = 100\n",
        "  theta1 = -1\n",
        "  return theta0 + theta1 * p\n",
        "\n",
        "# 지수 가격-수요 곡선 \n",
        "def demand_exponential(p):\n",
        "  theta0 = 2500\n",
        "  theta1 = -1\n",
        "  return theta0 / (p ** -theta1)\n",
        "\n",
        "# 복합적인 가격-수요 곡선\n",
        "def demand_complex(p_array):\n",
        "  demand_array = np.array([])\n",
        "  for p in p_array:\n",
        "    if p < 60:\n",
        "      theta0 = 200\n",
        "      theta1 = -1\n",
        "    else:\n",
        "      theta0 = 200\n",
        "      theta1 = -2\n",
        "      \n",
        "    demand_array = np.append(demand_array, theta0 + theta1 * p)\n",
        "  return demand_array\n"
      ],
      "metadata": {
        "id": "fCHtxV22E0EB"
      },
      "execution_count": null,
      "outputs": []
    },
    {
      "cell_type": "code",
      "source": [
        "df_linear = pd.DataFrame({\n",
        "  'price': price_points,\n",
        "  'demand': demand_linear(price_points),\n",
        "})\n",
        "df_linear"
      ],
      "metadata": {
        "colab": {
          "base_uri": "https://localhost:8080/",
          "height": 363
        },
        "id": "O8ITXpwSt_Bz",
        "outputId": "2dddbbe3-a315-4d39-84fc-96623e431144"
      },
      "execution_count": null,
      "outputs": [
        {
          "output_type": "execute_result",
          "data": {
            "text/plain": [
              "   price  demand\n",
              "0     10      90\n",
              "1     20      80\n",
              "2     30      70\n",
              "3     40      60\n",
              "4     50      50\n",
              "5     60      40\n",
              "6     70      30\n",
              "7     80      20\n",
              "8     90      10\n",
              "9    100       0"
            ],
            "text/html": [
              "\n",
              "  <div id=\"df-1a676ee2-ce9e-43b9-80d3-661d0eac5142\">\n",
              "    <div class=\"colab-df-container\">\n",
              "      <div>\n",
              "<style scoped>\n",
              "    .dataframe tbody tr th:only-of-type {\n",
              "        vertical-align: middle;\n",
              "    }\n",
              "\n",
              "    .dataframe tbody tr th {\n",
              "        vertical-align: top;\n",
              "    }\n",
              "\n",
              "    .dataframe thead th {\n",
              "        text-align: right;\n",
              "    }\n",
              "</style>\n",
              "<table border=\"1\" class=\"dataframe\">\n",
              "  <thead>\n",
              "    <tr style=\"text-align: right;\">\n",
              "      <th></th>\n",
              "      <th>price</th>\n",
              "      <th>demand</th>\n",
              "    </tr>\n",
              "  </thead>\n",
              "  <tbody>\n",
              "    <tr>\n",
              "      <th>0</th>\n",
              "      <td>10</td>\n",
              "      <td>90</td>\n",
              "    </tr>\n",
              "    <tr>\n",
              "      <th>1</th>\n",
              "      <td>20</td>\n",
              "      <td>80</td>\n",
              "    </tr>\n",
              "    <tr>\n",
              "      <th>2</th>\n",
              "      <td>30</td>\n",
              "      <td>70</td>\n",
              "    </tr>\n",
              "    <tr>\n",
              "      <th>3</th>\n",
              "      <td>40</td>\n",
              "      <td>60</td>\n",
              "    </tr>\n",
              "    <tr>\n",
              "      <th>4</th>\n",
              "      <td>50</td>\n",
              "      <td>50</td>\n",
              "    </tr>\n",
              "    <tr>\n",
              "      <th>5</th>\n",
              "      <td>60</td>\n",
              "      <td>40</td>\n",
              "    </tr>\n",
              "    <tr>\n",
              "      <th>6</th>\n",
              "      <td>70</td>\n",
              "      <td>30</td>\n",
              "    </tr>\n",
              "    <tr>\n",
              "      <th>7</th>\n",
              "      <td>80</td>\n",
              "      <td>20</td>\n",
              "    </tr>\n",
              "    <tr>\n",
              "      <th>8</th>\n",
              "      <td>90</td>\n",
              "      <td>10</td>\n",
              "    </tr>\n",
              "    <tr>\n",
              "      <th>9</th>\n",
              "      <td>100</td>\n",
              "      <td>0</td>\n",
              "    </tr>\n",
              "  </tbody>\n",
              "</table>\n",
              "</div>\n",
              "      <button class=\"colab-df-convert\" onclick=\"convertToInteractive('df-1a676ee2-ce9e-43b9-80d3-661d0eac5142')\"\n",
              "              title=\"Convert this dataframe to an interactive table.\"\n",
              "              style=\"display:none;\">\n",
              "        \n",
              "  <svg xmlns=\"http://www.w3.org/2000/svg\" height=\"24px\"viewBox=\"0 0 24 24\"\n",
              "       width=\"24px\">\n",
              "    <path d=\"M0 0h24v24H0V0z\" fill=\"none\"/>\n",
              "    <path d=\"M18.56 5.44l.94 2.06.94-2.06 2.06-.94-2.06-.94-.94-2.06-.94 2.06-2.06.94zm-11 1L8.5 8.5l.94-2.06 2.06-.94-2.06-.94L8.5 2.5l-.94 2.06-2.06.94zm10 10l.94 2.06.94-2.06 2.06-.94-2.06-.94-.94-2.06-.94 2.06-2.06.94z\"/><path d=\"M17.41 7.96l-1.37-1.37c-.4-.4-.92-.59-1.43-.59-.52 0-1.04.2-1.43.59L10.3 9.45l-7.72 7.72c-.78.78-.78 2.05 0 2.83L4 21.41c.39.39.9.59 1.41.59.51 0 1.02-.2 1.41-.59l7.78-7.78 2.81-2.81c.8-.78.8-2.07 0-2.86zM5.41 20L4 18.59l7.72-7.72 1.47 1.35L5.41 20z\"/>\n",
              "  </svg>\n",
              "      </button>\n",
              "      \n",
              "  <style>\n",
              "    .colab-df-container {\n",
              "      display:flex;\n",
              "      flex-wrap:wrap;\n",
              "      gap: 12px;\n",
              "    }\n",
              "\n",
              "    .colab-df-convert {\n",
              "      background-color: #E8F0FE;\n",
              "      border: none;\n",
              "      border-radius: 50%;\n",
              "      cursor: pointer;\n",
              "      display: none;\n",
              "      fill: #1967D2;\n",
              "      height: 32px;\n",
              "      padding: 0 0 0 0;\n",
              "      width: 32px;\n",
              "    }\n",
              "\n",
              "    .colab-df-convert:hover {\n",
              "      background-color: #E2EBFA;\n",
              "      box-shadow: 0px 1px 2px rgba(60, 64, 67, 0.3), 0px 1px 3px 1px rgba(60, 64, 67, 0.15);\n",
              "      fill: #174EA6;\n",
              "    }\n",
              "\n",
              "    [theme=dark] .colab-df-convert {\n",
              "      background-color: #3B4455;\n",
              "      fill: #D2E3FC;\n",
              "    }\n",
              "\n",
              "    [theme=dark] .colab-df-convert:hover {\n",
              "      background-color: #434B5C;\n",
              "      box-shadow: 0px 1px 3px 1px rgba(0, 0, 0, 0.15);\n",
              "      filter: drop-shadow(0px 1px 2px rgba(0, 0, 0, 0.3));\n",
              "      fill: #FFFFFF;\n",
              "    }\n",
              "  </style>\n",
              "\n",
              "      <script>\n",
              "        const buttonEl =\n",
              "          document.querySelector('#df-1a676ee2-ce9e-43b9-80d3-661d0eac5142 button.colab-df-convert');\n",
              "        buttonEl.style.display =\n",
              "          google.colab.kernel.accessAllowed ? 'block' : 'none';\n",
              "\n",
              "        async function convertToInteractive(key) {\n",
              "          const element = document.querySelector('#df-1a676ee2-ce9e-43b9-80d3-661d0eac5142');\n",
              "          const dataTable =\n",
              "            await google.colab.kernel.invokeFunction('convertToInteractive',\n",
              "                                                     [key], {});\n",
              "          if (!dataTable) return;\n",
              "\n",
              "          const docLinkHtml = 'Like what you see? Visit the ' +\n",
              "            '<a target=\"_blank\" href=https://colab.research.google.com/notebooks/data_table.ipynb>data table notebook</a>'\n",
              "            + ' to learn more about interactive tables.';\n",
              "          element.innerHTML = '';\n",
              "          dataTable['output_type'] = 'display_data';\n",
              "          await google.colab.output.renderOutput(dataTable, element);\n",
              "          const docLink = document.createElement('div');\n",
              "          docLink.innerHTML = docLinkHtml;\n",
              "          element.appendChild(docLink);\n",
              "        }\n",
              "      </script>\n",
              "    </div>\n",
              "  </div>\n",
              "  "
            ]
          },
          "metadata": {},
          "execution_count": 12
        }
      ]
    },
    {
      "cell_type": "code",
      "source": [
        "df.plot(x='price', y='demand', color='tab:orange', marker='.')"
      ],
      "metadata": {
        "colab": {
          "base_uri": "https://localhost:8080/",
          "height": 297
        },
        "id": "iT881pD5uVQt",
        "outputId": "2c3e5ba1-9d16-401d-9e04-fb3e7f66c0c0"
      },
      "execution_count": null,
      "outputs": [
        {
          "output_type": "execute_result",
          "data": {
            "text/plain": [
              "<matplotlib.axes._subplots.AxesSubplot at 0x7f7fe490bdd0>"
            ]
          },
          "metadata": {},
          "execution_count": 13
        },
        {
          "output_type": "display_data",
          "data": {
            "text/plain": [
              "<Figure size 432x288 with 1 Axes>"
            ],
            "image/png": "[encoded data removed]"
          },
          "metadata": {
            "needs_background": "light"
          }
        }
      ]
    },
    {
      "cell_type": "code",
      "source": [
        "# 매출과 손익 같이 구하고 그리기\n",
        "\n",
        "df_linear = pd.DataFrame({\n",
        "  'price': price_points,\n",
        "  'demand': demand_linear(price_points),\n",
        "})\n",
        "df_linear"
      ],
      "metadata": {
        "colab": {
          "base_uri": "https://localhost:8080/",
          "height": 363
        },
        "id": "Qv1LnAMZucV-",
        "outputId": "588533d0-1029-4a57-974e-60b569980151"
      },
      "execution_count": null,
      "outputs": [
        {
          "output_type": "execute_result",
          "data": {
            "text/plain": [
              "   price  demand\n",
              "0     10      90\n",
              "1     20      80\n",
              "2     30      70\n",
              "3     40      60\n",
              "4     50      50\n",
              "5     60      40\n",
              "6     70      30\n",
              "7     80      20\n",
              "8     90      10\n",
              "9    100       0"
            ],
            "text/html": [
              "\n",
              "  <div id=\"df-25429a38-40df-4b48-bb74-856bdb37738f\">\n",
              "    <div class=\"colab-df-container\">\n",
              "      <div>\n",
              "<style scoped>\n",
              "    .dataframe tbody tr th:only-of-type {\n",
              "        vertical-align: middle;\n",
              "    }\n",
              "\n",
              "    .dataframe tbody tr th {\n",
              "        vertical-align: top;\n",
              "    }\n",
              "\n",
              "    .dataframe thead th {\n",
              "        text-align: right;\n",
              "    }\n",
              "</style>\n",
              "<table border=\"1\" class=\"dataframe\">\n",
              "  <thead>\n",
              "    <tr style=\"text-align: right;\">\n",
              "      <th></th>\n",
              "      <th>price</th>\n",
              "      <th>demand</th>\n",
              "    </tr>\n",
              "  </thead>\n",
              "  <tbody>\n",
              "    <tr>\n",
              "      <th>0</th>\n",
              "      <td>10</td>\n",
              "      <td>90</td>\n",
              "    </tr>\n",
              "    <tr>\n",
              "      <th>1</th>\n",
              "      <td>20</td>\n",
              "      <td>80</td>\n",
              "    </tr>\n",
              "    <tr>\n",
              "      <th>2</th>\n",
              "      <td>30</td>\n",
              "      <td>70</td>\n",
              "    </tr>\n",
              "    <tr>\n",
              "      <th>3</th>\n",
              "      <td>40</td>\n",
              "      <td>60</td>\n",
              "    </tr>\n",
              "    <tr>\n",
              "      <th>4</th>\n",
              "      <td>50</td>\n",
              "      <td>50</td>\n",
              "    </tr>\n",
              "    <tr>\n",
              "      <th>5</th>\n",
              "      <td>60</td>\n",
              "      <td>40</td>\n",
              "    </tr>\n",
              "    <tr>\n",
              "      <th>6</th>\n",
              "      <td>70</td>\n",
              "      <td>30</td>\n",
              "    </tr>\n",
              "    <tr>\n",
              "      <th>7</th>\n",
              "      <td>80</td>\n",
              "      <td>20</td>\n",
              "    </tr>\n",
              "    <tr>\n",
              "      <th>8</th>\n",
              "      <td>90</td>\n",
              "      <td>10</td>\n",
              "    </tr>\n",
              "    <tr>\n",
              "      <th>9</th>\n",
              "      <td>100</td>\n",
              "      <td>0</td>\n",
              "    </tr>\n",
              "  </tbody>\n",
              "</table>\n",
              "</div>\n",
              "      <button class=\"colab-df-convert\" onclick=\"convertToInteractive('df-25429a38-40df-4b48-bb74-856bdb37738f')\"\n",
              "              title=\"Convert this dataframe to an interactive table.\"\n",
              "              style=\"display:none;\">\n",
              "        \n",
              "  <svg xmlns=\"http://www.w3.org/2000/svg\" height=\"24px\"viewBox=\"0 0 24 24\"\n",
              "       width=\"24px\">\n",
              "    <path d=\"M0 0h24v24H0V0z\" fill=\"none\"/>\n",
              "    <path d=\"M18.56 5.44l.94 2.06.94-2.06 2.06-.94-2.06-.94-.94-2.06-.94 2.06-2.06.94zm-11 1L8.5 8.5l.94-2.06 2.06-.94-2.06-.94L8.5 2.5l-.94 2.06-2.06.94zm10 10l.94 2.06.94-2.06 2.06-.94-2.06-.94-.94-2.06-.94 2.06-2.06.94z\"/><path d=\"M17.41 7.96l-1.37-1.37c-.4-.4-.92-.59-1.43-.59-.52 0-1.04.2-1.43.59L10.3 9.45l-7.72 7.72c-.78.78-.78 2.05 0 2.83L4 21.41c.39.39.9.59 1.41.59.51 0 1.02-.2 1.41-.59l7.78-7.78 2.81-2.81c.8-.78.8-2.07 0-2.86zM5.41 20L4 18.59l7.72-7.72 1.47 1.35L5.41 20z\"/>\n",
              "  </svg>\n",
              "      </button>\n",
              "      \n",
              "  <style>\n",
              "    .colab-df-container {\n",
              "      display:flex;\n",
              "      flex-wrap:wrap;\n",
              "      gap: 12px;\n",
              "    }\n",
              "\n",
              "    .colab-df-convert {\n",
              "      background-color: #E8F0FE;\n",
              "      border: none;\n",
              "      border-radius: 50%;\n",
              "      cursor: pointer;\n",
              "      display: none;\n",
              "      fill: #1967D2;\n",
              "      height: 32px;\n",
              "      padding: 0 0 0 0;\n",
              "      width: 32px;\n",
              "    }\n",
              "\n",
              "    .colab-df-convert:hover {\n",
              "      background-color: #E2EBFA;\n",
              "      box-shadow: 0px 1px 2px rgba(60, 64, 67, 0.3), 0px 1px 3px 1px rgba(60, 64, 67, 0.15);\n",
              "      fill: #174EA6;\n",
              "    }\n",
              "\n",
              "    [theme=dark] .colab-df-convert {\n",
              "      background-color: #3B4455;\n",
              "      fill: #D2E3FC;\n",
              "    }\n",
              "\n",
              "    [theme=dark] .colab-df-convert:hover {\n",
              "      background-color: #434B5C;\n",
              "      box-shadow: 0px 1px 3px 1px rgba(0, 0, 0, 0.15);\n",
              "      filter: drop-shadow(0px 1px 2px rgba(0, 0, 0, 0.3));\n",
              "      fill: #FFFFFF;\n",
              "    }\n",
              "  </style>\n",
              "\n",
              "      <script>\n",
              "        const buttonEl =\n",
              "          document.querySelector('#df-25429a38-40df-4b48-bb74-856bdb37738f button.colab-df-convert');\n",
              "        buttonEl.style.display =\n",
              "          google.colab.kernel.accessAllowed ? 'block' : 'none';\n",
              "\n",
              "        async function convertToInteractive(key) {\n",
              "          const element = document.querySelector('#df-25429a38-40df-4b48-bb74-856bdb37738f');\n",
              "          const dataTable =\n",
              "            await google.colab.kernel.invokeFunction('convertToInteractive',\n",
              "                                                     [key], {});\n",
              "          if (!dataTable) return;\n",
              "\n",
              "          const docLinkHtml = 'Like what you see? Visit the ' +\n",
              "            '<a target=\"_blank\" href=https://colab.research.google.com/notebooks/data_table.ipynb>data table notebook</a>'\n",
              "            + ' to learn more about interactive tables.';\n",
              "          element.innerHTML = '';\n",
              "          dataTable['output_type'] = 'display_data';\n",
              "          await google.colab.output.renderOutput(dataTable, element);\n",
              "          const docLink = document.createElement('div');\n",
              "          docLink.innerHTML = docLinkHtml;\n",
              "          element.appendChild(docLink);\n",
              "        }\n",
              "      </script>\n",
              "    </div>\n",
              "  </div>\n",
              "  "
            ]
          },
          "metadata": {},
          "execution_count": 14
        }
      ]
    },
    {
      "cell_type": "code",
      "source": [
        "df_linear['revenue'] = df_linear['demand'] * df_linear['price']\n",
        "\n",
        "unit_cost = 30\n",
        "\n",
        "df_linear['cost'] = unit_cost * df_linear['demand']\n",
        "\n",
        "df_linear['profit'] = df_linear['revenue'] - df_linear['cost']\n",
        "\n",
        "df_linear"
      ],
      "metadata": {
        "colab": {
          "base_uri": "https://localhost:8080/",
          "height": 363
        },
        "id": "xeMewfoPwYDG",
        "outputId": "6a2c6507-91e7-4d2a-978e-90c5322f6b96"
      },
      "execution_count": null,
      "outputs": [
        {
          "output_type": "execute_result",
          "data": {
            "text/plain": [
              "   price  demand  revenue  cost  profit\n",
              "0     10      90      900  2700   -1800\n",
              "1     20      80     1600  2400    -800\n",
              "2     30      70     2100  2100       0\n",
              "3     40      60     2400  1800     600\n",
              "4     50      50     2500  1500    1000\n",
              "5     60      40     2400  1200    1200\n",
              "6     70      30     2100   900    1200\n",
              "7     80      20     1600   600    1000\n",
              "8     90      10      900   300     600\n",
              "9    100       0        0     0       0"
            ],
            "text/html": [
              "\n",
              "  <div id=\"df-b7c2a78a-067a-48d6-8825-3ffd2b5143f7\">\n",
              "    <div class=\"colab-df-container\">\n",
              "      <div>\n",
              "<style scoped>\n",
              "    .dataframe tbody tr th:only-of-type {\n",
              "        vertical-align: middle;\n",
              "    }\n",
              "\n",
              "    .dataframe tbody tr th {\n",
              "        vertical-align: top;\n",
              "    }\n",
              "\n",
              "    .dataframe thead th {\n",
              "        text-align: right;\n",
              "    }\n",
              "</style>\n",
              "<table border=\"1\" class=\"dataframe\">\n",
              "  <thead>\n",
              "    <tr style=\"text-align: right;\">\n",
              "      <th></th>\n",
              "      <th>price</th>\n",
              "      <th>demand</th>\n",
              "      <th>revenue</th>\n",
              "      <th>cost</th>\n",
              "      <th>profit</th>\n",
              "    </tr>\n",
              "  </thead>\n",
              "  <tbody>\n",
              "    <tr>\n",
              "      <th>0</th>\n",
              "      <td>10</td>\n",
              "      <td>90</td>\n",
              "      <td>900</td>\n",
              "      <td>2700</td>\n",
              "      <td>-1800</td>\n",
              "    </tr>\n",
              "    <tr>\n",
              "      <th>1</th>\n",
              "      <td>20</td>\n",
              "      <td>80</td>\n",
              "      <td>1600</td>\n",
              "      <td>2400</td>\n",
              "      <td>-800</td>\n",
              "    </tr>\n",
              "    <tr>\n",
              "      <th>2</th>\n",
              "      <td>30</td>\n",
              "      <td>70</td>\n",
              "      <td>2100</td>\n",
              "      <td>2100</td>\n",
              "      <td>0</td>\n",
              "    </tr>\n",
              "    <tr>\n",
              "      <th>3</th>\n",
              "      <td>40</td>\n",
              "      <td>60</td>\n",
              "      <td>2400</td>\n",
              "      <td>1800</td>\n",
              "      <td>600</td>\n",
              "    </tr>\n",
              "    <tr>\n",
              "      <th>4</th>\n",
              "      <td>50</td>\n",
              "      <td>50</td>\n",
              "      <td>2500</td>\n",
              "      <td>1500</td>\n",
              "      <td>1000</td>\n",
              "    </tr>\n",
              "    <tr>\n",
              "      <th>5</th>\n",
              "      <td>60</td>\n",
              "      <td>40</td>\n",
              "      <td>2400</td>\n",
              "      <td>1200</td>\n",
              "      <td>1200</td>\n",
              "    </tr>\n",
              "    <tr>\n",
              "      <th>6</th>\n",
              "      <td>70</td>\n",
              "      <td>30</td>\n",
              "      <td>2100</td>\n",
              "      <td>900</td>\n",
              "      <td>1200</td>\n",
              "    </tr>\n",
              "    <tr>\n",
              "      <th>7</th>\n",
              "      <td>80</td>\n",
              "      <td>20</td>\n",
              "      <td>1600</td>\n",
              "      <td>600</td>\n",
              "      <td>1000</td>\n",
              "    </tr>\n",
              "    <tr>\n",
              "      <th>8</th>\n",
              "      <td>90</td>\n",
              "      <td>10</td>\n",
              "      <td>900</td>\n",
              "      <td>300</td>\n",
              "      <td>600</td>\n",
              "    </tr>\n",
              "    <tr>\n",
              "      <th>9</th>\n",
              "      <td>100</td>\n",
              "      <td>0</td>\n",
              "      <td>0</td>\n",
              "      <td>0</td>\n",
              "      <td>0</td>\n",
              "    </tr>\n",
              "  </tbody>\n",
              "</table>\n",
              "</div>\n",
              "      <button class=\"colab-df-convert\" onclick=\"convertToInteractive('df-b7c2a78a-067a-48d6-8825-3ffd2b5143f7')\"\n",
              "              title=\"Convert this dataframe to an interactive table.\"\n",
              "              style=\"display:none;\">\n",
              "        \n",
              "  <svg xmlns=\"http://www.w3.org/2000/svg\" height=\"24px\"viewBox=\"0 0 24 24\"\n",
              "       width=\"24px\">\n",
              "    <path d=\"M0 0h24v24H0V0z\" fill=\"none\"/>\n",
              "    <path d=\"M18.56 5.44l.94 2.06.94-2.06 2.06-.94-2.06-.94-.94-2.06-.94 2.06-2.06.94zm-11 1L8.5 8.5l.94-2.06 2.06-.94-2.06-.94L8.5 2.5l-.94 2.06-2.06.94zm10 10l.94 2.06.94-2.06 2.06-.94-2.06-.94-.94-2.06-.94 2.06-2.06.94z\"/><path d=\"M17.41 7.96l-1.37-1.37c-.4-.4-.92-.59-1.43-.59-.52 0-1.04.2-1.43.59L10.3 9.45l-7.72 7.72c-.78.78-.78 2.05 0 2.83L4 21.41c.39.39.9.59 1.41.59.51 0 1.02-.2 1.41-.59l7.78-7.78 2.81-2.81c.8-.78.8-2.07 0-2.86zM5.41 20L4 18.59l7.72-7.72 1.47 1.35L5.41 20z\"/>\n",
              "  </svg>\n",
              "      </button>\n",
              "      \n",
              "  <style>\n",
              "    .colab-df-container {\n",
              "      display:flex;\n",
              "      flex-wrap:wrap;\n",
              "      gap: 12px;\n",
              "    }\n",
              "\n",
              "    .colab-df-convert {\n",
              "      background-color: #E8F0FE;\n",
              "      border: none;\n",
              "      border-radius: 50%;\n",
              "      cursor: pointer;\n",
              "      display: none;\n",
              "      fill: #1967D2;\n",
              "      height: 32px;\n",
              "      padding: 0 0 0 0;\n",
              "      width: 32px;\n",
              "    }\n",
              "\n",
              "    .colab-df-convert:hover {\n",
              "      background-color: #E2EBFA;\n",
              "      box-shadow: 0px 1px 2px rgba(60, 64, 67, 0.3), 0px 1px 3px 1px rgba(60, 64, 67, 0.15);\n",
              "      fill: #174EA6;\n",
              "    }\n",
              "\n",
              "    [theme=dark] .colab-df-convert {\n",
              "      background-color: #3B4455;\n",
              "      fill: #D2E3FC;\n",
              "    }\n",
              "\n",
              "    [theme=dark] .colab-df-convert:hover {\n",
              "      background-color: #434B5C;\n",
              "      box-shadow: 0px 1px 3px 1px rgba(0, 0, 0, 0.15);\n",
              "      filter: drop-shadow(0px 1px 2px rgba(0, 0, 0, 0.3));\n",
              "      fill: #FFFFFF;\n",
              "    }\n",
              "  </style>\n",
              "\n",
              "      <script>\n",
              "        const buttonEl =\n",
              "          document.querySelector('#df-b7c2a78a-067a-48d6-8825-3ffd2b5143f7 button.colab-df-convert');\n",
              "        buttonEl.style.display =\n",
              "          google.colab.kernel.accessAllowed ? 'block' : 'none';\n",
              "\n",
              "        async function convertToInteractive(key) {\n",
              "          const element = document.querySelector('#df-b7c2a78a-067a-48d6-8825-3ffd2b5143f7');\n",
              "          const dataTable =\n",
              "            await google.colab.kernel.invokeFunction('convertToInteractive',\n",
              "                                                     [key], {});\n",
              "          if (!dataTable) return;\n",
              "\n",
              "          const docLinkHtml = 'Like what you see? Visit the ' +\n",
              "            '<a target=\"_blank\" href=https://colab.research.google.com/notebooks/data_table.ipynb>data table notebook</a>'\n",
              "            + ' to learn more about interactive tables.';\n",
              "          element.innerHTML = '';\n",
              "          dataTable['output_type'] = 'display_data';\n",
              "          await google.colab.output.renderOutput(dataTable, element);\n",
              "          const docLink = document.createElement('div');\n",
              "          docLink.innerHTML = docLinkHtml;\n",
              "          element.appendChild(docLink);\n",
              "        }\n",
              "      </script>\n",
              "    </div>\n",
              "  </div>\n",
              "  "
            ]
          },
          "metadata": {},
          "execution_count": 15
        }
      ]
    },
    {
      "cell_type": "code",
      "source": [
        "# 재사용을 위해 차팅 함수를 만들자\n",
        "def draw(df):\n",
        "  ax = df.plot(x='price', y='demand', legend=False, color='tab:orange', marker='.', )\n",
        "  ax2 = ax.twinx()\n",
        "  df.plot(x='price', y='revenue', ax=ax2, legend=False, color='tab:blue', marker='.')\n",
        "  df.plot(x='price', y='profit', ax=ax2, legend=False, color='tab:pink', marker='.')\n",
        "  ax.figure.legend()\n",
        "\n",
        "draw(df_linear)"
      ],
      "metadata": {
        "colab": {
          "base_uri": "https://localhost:8080/",
          "height": 309
        },
        "id": "DlMKCCKKw3vF",
        "outputId": "ec8fce65-53a4-4036-bf04-09b9690a76e8"
      },
      "execution_count": null,
      "outputs": [
        {
          "output_type": "display_data",
          "data": {
            "text/plain": [
              "<Figure size 432x288 with 2 Axes>"
            ],
            "image/png": "[encoded data removed]"
          },
          "metadata": {
            "needs_background": "light"
          }
        }
      ]
    },
    {
      "cell_type": "markdown",
      "source": [
        "* 왼쪽축은 가격-수요 \n",
        "* 오른쪽축은 매출, 손익\n",
        "\n",
        "* 원가가 30원이므로 30원 미만은 손해보는 가격\n",
        "\n",
        "* 매출이 최대가 되는 가격은? => 50원\n",
        " * 매출은 역포물선을 그리므로 40원, 60원도 매출이 나쁘지 않음 (수요는 급등락하는것 같아 보이더라도 매출 차이는 크지 않음)\n",
        "* 손익이 최대가 되는 가격은 60~70원. 매출이 최대가 되는 지점보다 높다. \n",
        " * 손익이 최대가 되는 가격은 매출이 최대가 되는 가격보다 항상 높다. \n",
        " * 즉 손익을 생각하면 가격을 올려야하고, 매출을 생각하면 가격을 낮춰야하는 경우가 많을 것이다. \n",
        " "
      ],
      "metadata": {
        "id": "nm--5qcnNYWq"
      }
    },
    {
      "cell_type": "code",
      "source": [
        "# 나머지 다양한 수요곡선도 그려보자\n",
        "\n",
        "# 지수 가격-수요 곡선 \n",
        "df_exponential = pd.DataFrame({\n",
        "  'price': price_points,\n",
        "  'demand': demand_exponential(price_points),\n",
        "})\n",
        "df_exponential['revenue'] = df_exponential['demand'] * df_exponential['price']\n",
        "df_exponential['cost'] = unit_cost * df_exponential['demand']\n",
        "df_exponential['profit'] = df_exponential['revenue'] - df_exponential['cost']\n",
        "\n",
        "print(df_exponential)\n",
        "draw(df_exponential)"
      ],
      "metadata": {
        "colab": {
          "base_uri": "https://localhost:8080/",
          "height": 505
        },
        "id": "zVngiXnp_nRW",
        "outputId": "b179039e-9a1d-474a-d6e7-9e5e1a5ff463"
      },
      "execution_count": null,
      "outputs": [
        {
          "output_type": "stream",
          "name": "stdout",
          "text": [
            "   price      demand  revenue         cost       profit\n",
            "0     10  250.000000   2500.0  7500.000000 -5000.000000\n",
            "1     20  125.000000   2500.0  3750.000000 -1250.000000\n",
            "2     30   83.333333   2500.0  2500.000000     0.000000\n",
            "3     40   62.500000   2500.0  1875.000000   625.000000\n",
            "4     50   50.000000   2500.0  1500.000000  1000.000000\n",
            "5     60   41.666667   2500.0  1250.000000  1250.000000\n",
            "6     70   35.714286   2500.0  1071.428571  1428.571429\n",
            "7     80   31.250000   2500.0   937.500000  1562.500000\n",
            "8     90   27.777778   2500.0   833.333333  1666.666667\n",
            "9    100   25.000000   2500.0   750.000000  1750.000000\n"
          ]
        },
        {
          "output_type": "display_data",
          "data": {
            "text/plain": [
              "<Figure size 432x288 with 2 Axes>"
            ],
            "image/png": "[encoded data removed]"
          },
          "metadata": {
            "needs_background": "light"
          }
        }
      ]
    },
    {
      "cell_type": "markdown",
      "source": [
        "* 왼쪽축은 가격-수요 \n",
        "* 오른쪽축은 매출, 손익\n",
        "\n",
        "* 수요가 가격의 반비례 형태로 움직이는 모델로, 가격이 변해도 매출이 유지되는 모델 \n",
        " * (모든 구간에서 가격탄력성이 1 = 단위탄력성) \n",
        "\n",
        "* 매출이 항상 같으므로 가격이 높을수록 손익이 좋다  "
      ],
      "metadata": {
        "id": "X2LyP7hDZfUK"
      }
    },
    {
      "cell_type": "code",
      "source": [
        "# 지수 가격-수요 곡선 \n",
        "df_complex = pd.DataFrame({\n",
        "  'price': price_points,\n",
        "  'demand': demand_complex(price_points),\n",
        "})\n",
        "df_complex['revenue'] = df_complex['demand'] * df_complex['price']\n",
        "df_complex['cost'] = unit_cost * df_complex['demand']\n",
        "df_complex['profit'] = df_complex['revenue'] - df_complex['cost']\n",
        "\n",
        "print(df_complex)\n",
        "draw(df_complex)"
      ],
      "metadata": {
        "colab": {
          "base_uri": "https://localhost:8080/",
          "height": 505
        },
        "id": "f7jd7K9fakM7",
        "outputId": "3dd78bae-a24a-498c-8338-b779c43dbf40"
      },
      "execution_count": null,
      "outputs": [
        {
          "output_type": "stream",
          "name": "stdout",
          "text": [
            "   price  demand  revenue    cost  profit\n",
            "0     10   190.0   1900.0  5700.0 -3800.0\n",
            "1     20   180.0   3600.0  5400.0 -1800.0\n",
            "2     30   170.0   5100.0  5100.0     0.0\n",
            "3     40   160.0   6400.0  4800.0  1600.0\n",
            "4     50   150.0   7500.0  4500.0  3000.0\n",
            "5     60    80.0   4800.0  2400.0  2400.0\n",
            "6     70    60.0   4200.0  1800.0  2400.0\n",
            "7     80    40.0   3200.0  1200.0  2000.0\n",
            "8     90    20.0   1800.0   600.0  1200.0\n",
            "9    100     0.0      0.0     0.0     0.0\n"
          ]
        },
        {
          "output_type": "display_data",
          "data": {
            "text/plain": [
              "<Figure size 432x288 with 2 Axes>"
            ],
            "image/png": "[encoded data removed]"
          },
          "metadata": {
            "needs_background": "light"
          }
        }
      ]
    },
    {
      "cell_type": "markdown",
      "source": [
        "* 급격하게 수요가 떨어지는 모델\n",
        " * 경쟁이 심한 경우\n",
        "* 특정 가격 이상 올라가는 경우 매출도 급락하므로, 손익도 급락함\n",
        "* 경쟁으로 인한 가격의 데드라인이 있다면 주의해야 함"
      ],
      "metadata": {
        "id": "GGifhEiQg9xK"
      }
    },
    {
      "cell_type": "markdown",
      "source": [
        "# 최적의 가격 찾기\n",
        "이제, 최적 가격에 대해 알아보겠습니다."
      ],
      "metadata": {
        "id": "ngxL8xRbgfoR"
      }
    },
    {
      "cell_type": "code",
      "source": [
        "draw(df_linear)"
      ],
      "metadata": {
        "colab": {
          "base_uri": "https://localhost:8080/",
          "height": 309
        },
        "id": "lgLhqZR0gkg5",
        "outputId": "0b5d795b-daf0-4757-ca53-7013d08deb48"
      },
      "execution_count": null,
      "outputs": [
        {
          "output_type": "display_data",
          "data": {
            "text/plain": [
              "<Figure size 432x288 with 2 Axes>"
            ],
            "image/png": "[encoded data removed]"
          },
          "metadata": {
            "needs_background": "light"
          }
        }
      ]
    },
    {
      "cell_type": "markdown",
      "source": [
        "선형 가격곡선에서 살펴보았듯, 매출 혹은 손익이 최고가 되는 가격점이 있습니다.\n",
        "그래프로 살펴보지 않고도, 이를 이론으로도 알수있습니다. \n",
        "\n",
        "$d$ : demand function\n",
        "\n",
        "$r$ : revenue function\n",
        "\n",
        "$d(p) = \\theta_0 + \\theta_1 p$\n",
        "\n",
        "$r(p) = d(p) * p = \\theta_0p + \\theta_1 p^2$\n",
        "\n",
        "$ p_{opt} = arg \\underset{p}{\\operatorname{max}} r(p)$\n",
        "\n",
        "find $p_{opt}$ for $ \\frac{\\mathrm{d} r(p_{opt})} {\\mathrm{d} p} = 0$\n",
        "\n",
        "$  \\theta_0 + 2\\theta_1 p_{opt} = 0 $ \n",
        "\n",
        "$p_{opt} = - \\frac {\\theta_0} {2\\theta_1} $"
      ],
      "metadata": {
        "id": "BER5aw7uhFe-"
      }
    },
    {
      "cell_type": "code",
      "source": [
        "# 선형 가격-수요 곡선 \n",
        "def demand_linear(p):\n",
        "  theta0 = 100\n",
        "  theta1 = -1\n",
        "  return theta0 + theta1 * p\n",
        "\n",
        "theta0 = 100\n",
        "theta1 = -1\n",
        "\n",
        "optimal_p_for_revenue = -1/2 * theta0 / theta1\n",
        "print(optimal_p_for_revenue)"
      ],
      "metadata": {
        "colab": {
          "base_uri": "https://localhost:8080/"
        },
        "id": "EHDQyubfhhrx",
        "outputId": "3b3c242f-0863-46ba-c4c6-11bc8a17ee8b"
      },
      "execution_count": null,
      "outputs": [
        {
          "output_type": "stream",
          "name": "stdout",
          "text": [
            "50.0\n"
          ]
        }
      ]
    },
    {
      "cell_type": "markdown",
      "source": [
        "손익을 위한 최적의 가격도 계산해봅시다. \n",
        "\n",
        "$pl$ : profit/loss function\n",
        "\n",
        "$c$ : unit cost\n",
        "\n",
        "$pl(p) = r(p) - d(p) * c = \\theta_0 p + \\theta_1 p^2 - (\\theta_0 + \\theta_1 p) c$ \n",
        "\n",
        "$ =  -\\theta_0c +\\theta_0p - \\theta_1 c p + \\theta_1 p^2 $\n",
        "\n",
        "find $p_{opt}$ for $ \\frac{\\mathrm{d} pl(p_{opt})} {\\mathrm{d} p} = 0$\n",
        "\n",
        "$  \\theta_0 - \\theta_1c + 2\\theta_1 p_{opt} = 0 $ \n",
        "\n",
        "$p_{opt} = - \\frac {\\theta_0} {2\\theta_1}  + \\frac {c} {2}  = p_{opt_r} + \\frac {c} {2} $\n",
        "\n",
        "매출을 위한 최적의 가격에서 원가/2 를 더한 가격!"
      ],
      "metadata": {
        "id": "MSFy8mQpn9Cd"
      }
    },
    {
      "cell_type": "code",
      "source": [
        "optimal_p_for_profit = -1/2 * (theta0 - theta1 * unit_cost) / theta1\n",
        "print(optimal_p_for_profit)"
      ],
      "metadata": {
        "colab": {
          "base_uri": "https://localhost:8080/"
        },
        "id": "CdGS0o67n8d6",
        "outputId": "5867d4cc-ed3b-454e-bfb1-a2526c641313"
      },
      "execution_count": null,
      "outputs": [
        {
          "output_type": "stream",
          "name": "stdout",
          "text": [
            "65.0\n"
          ]
        }
      ]
    },
    {
      "cell_type": "markdown",
      "source": [
        " # 연습\n",
        " ### 종합적인 목표\n",
        " 매출과 손익, 판매량(수요)을 1:1:1로 혼합한 목표일 때 최적 가격을 찾아보세요\n",
        " 기준을 어떻게 세워서 목표를 혼합야할까요?"
      ],
      "metadata": {
        "id": "SG1eXz0qrPWc"
      }
    },
    {
      "cell_type": "markdown",
      "source": [
        "# 가격탄력성 파악 실험\n",
        "\n",
        "지금까지는 수요곡선을 알고있다는 가정 하에 여러 계산을 해보았는데, 실제로는 수요곡선을 알 수 없는 경우가 대부분입니다. \n",
        "\n",
        "수요곡선은 결국 실험과 관측을 통해 파악해야 합니다.\n",
        "\n",
        "다양한 지점의 가격을 전개하고 해당 가격에서의 수요(판매량)을 수집합니다."
      ],
      "metadata": {
        "id": "95PQr0Rnrc0c"
      }
    },
    {
      "cell_type": "code",
      "source": [
        "#\t실습목표: 처음에 가정한 d(p)를 모를때, 관측을 통해 측정해보자 \n",
        "\n",
        "np.random.seed(200)\n",
        "\n",
        "unknown_theta0 = 100\n",
        "unknown_theta1 = -1\n",
        "\n",
        "# 관측치\n",
        "def sample_actual_demand(p): \n",
        "    demand = unknown_theta0 + unknown_theta1 * p    \n",
        "    return np.random.poisson(demand)\n",
        "\n",
        "unit_cost = 30\n",
        "\n",
        "price_points = np.arange(start=30, stop=71, step=5)\n",
        "price_points = np.repeat(price_points, 5)\n",
        "demand_points = np.array([sample_actual_demand(p) for p in price_points])\n",
        "\n",
        "df_ped = pd.DataFrame({\n",
        "  'price': price_points,\n",
        "  'demand': demand_points,\n",
        "})\n",
        "df_ped['revenue'] = df_ped['demand'] * df_ped['price']\n",
        "df_ped['cost'] = unit_cost * df_ped['demand']\n",
        "df_ped['profit'] = df_ped['revenue'] - df_ped['cost']\n",
        "df_ped"
      ],
      "metadata": {
        "id": "UeRNMjrledQ2",
        "colab": {
          "base_uri": "https://localhost:8080/",
          "height": 1000
        },
        "outputId": "1fb4675d-1916-43ba-e70c-7ceaa48f0e05"
      },
      "execution_count": null,
      "outputs": [
        {
          "output_type": "execute_result",
          "data": {
            "text/plain": [
              "    price  demand  revenue  cost  profit\n",
              "0      30      88     2640  2640       0\n",
              "1      30      72     2160  2160       0\n",
              "2      30      77     2310  2310       0\n",
              "3      30      66     1980  1980       0\n",
              "4      30      69     2070  2070       0\n",
              "5      35      79     2765  2370     395\n",
              "6      35      74     2590  2220     370\n",
              "7      35      72     2520  2160     360\n",
              "8      35      74     2590  2220     370\n",
              "9      35      76     2660  2280     380\n",
              "10     40      59     2360  1770     590\n",
              "11     40      58     2320  1740     580\n",
              "12     40      62     2480  1860     620\n",
              "13     40      64     2560  1920     640\n",
              "14     40      63     2520  1890     630\n",
              "15     45      47     2115  1410     705\n",
              "16     45      59     2655  1770     885\n",
              "17     45      64     2880  1920     960\n",
              "18     45      49     2205  1470     735\n",
              "19     45      58     2610  1740     870\n",
              "20     50      43     2150  1290     860\n",
              "21     50      51     2550  1530    1020\n",
              "22     50      46     2300  1380     920\n",
              "23     50      49     2450  1470     980\n",
              "24     50      47     2350  1410     940\n",
              "25     55      32     1760   960     800\n",
              "26     55      44     2420  1320    1100\n",
              "27     55      57     3135  1710    1425\n",
              "28     55      46     2530  1380    1150\n",
              "29     55      40     2200  1200    1000\n",
              "30     60      44     2640  1320    1320\n",
              "31     60      36     2160  1080    1080\n",
              "32     60      33     1980   990     990\n",
              "33     60      45     2700  1350    1350\n",
              "34     60      43     2580  1290    1290\n",
              "35     65      43     2795  1290    1505\n",
              "36     65      23     1495   690     805\n",
              "37     65      41     2665  1230    1435\n",
              "38     65      45     2925  1350    1575\n",
              "39     65      37     2405  1110    1295\n",
              "40     70      38     2660  1140    1520\n",
              "41     70      24     1680   720     960\n",
              "42     70      37     2590  1110    1480\n",
              "43     70      22     1540   660     880\n",
              "44     70      30     2100   900    1200"
            ],
            "text/html": [
              "\n",
              "  <div id=\"df-10e8e327-8615-4279-a028-9cc5c18cbf97\">\n",
              "    <div class=\"colab-df-container\">\n",
              "      <div>\n",
              "<style scoped>\n",
              "    .dataframe tbody tr th:only-of-type {\n",
              "        vertical-align: middle;\n",
              "    }\n",
              "\n",
              "    .dataframe tbody tr th {\n",
              "        vertical-align: top;\n",
              "    }\n",
              "\n",
              "    .dataframe thead th {\n",
              "        text-align: right;\n",
              "    }\n",
              "</style>\n",
              "<table border=\"1\" class=\"dataframe\">\n",
              "  <thead>\n",
              "    <tr style=\"text-align: right;\">\n",
              "      <th></th>\n",
              "      <th>price</th>\n",
              "      <th>demand</th>\n",
              "      <th>revenue</th>\n",
              "      <th>cost</th>\n",
              "      <th>profit</th>\n",
              "    </tr>\n",
              "  </thead>\n",
              "  <tbody>\n",
              "    <tr>\n",
              "      <th>0</th>\n",
              "      <td>30</td>\n",
              "      <td>88</td>\n",
              "      <td>2640</td>\n",
              "      <td>2640</td>\n",
              "      <td>0</td>\n",
              "    </tr>\n",
              "    <tr>\n",
              "      <th>1</th>\n",
              "      <td>30</td>\n",
              "      <td>72</td>\n",
              "      <td>2160</td>\n",
              "      <td>2160</td>\n",
              "      <td>0</td>\n",
              "    </tr>\n",
              "    <tr>\n",
              "      <th>2</th>\n",
              "      <td>30</td>\n",
              "      <td>77</td>\n",
              "      <td>2310</td>\n",
              "      <td>2310</td>\n",
              "      <td>0</td>\n",
              "    </tr>\n",
              "    <tr>\n",
              "      <th>3</th>\n",
              "      <td>30</td>\n",
              "      <td>66</td>\n",
              "      <td>1980</td>\n",
              "      <td>1980</td>\n",
              "      <td>0</td>\n",
              "    </tr>\n",
              "    <tr>\n",
              "      <th>4</th>\n",
              "      <td>30</td>\n",
              "      <td>69</td>\n",
              "      <td>2070</td>\n",
              "      <td>2070</td>\n",
              "      <td>0</td>\n",
              "    </tr>\n",
              "    <tr>\n",
              "      <th>5</th>\n",
              "      <td>35</td>\n",
              "      <td>79</td>\n",
              "      <td>2765</td>\n",
              "      <td>2370</td>\n",
              "      <td>395</td>\n",
              "    </tr>\n",
              "    <tr>\n",
              "      <th>6</th>\n",
              "      <td>35</td>\n",
              "      <td>74</td>\n",
              "      <td>2590</td>\n",
              "      <td>2220</td>\n",
              "      <td>370</td>\n",
              "    </tr>\n",
              "    <tr>\n",
              "      <th>7</th>\n",
              "      <td>35</td>\n",
              "      <td>72</td>\n",
              "      <td>2520</td>\n",
              "      <td>2160</td>\n",
              "      <td>360</td>\n",
              "    </tr>\n",
              "    <tr>\n",
              "      <th>8</th>\n",
              "      <td>35</td>\n",
              "      <td>74</td>\n",
              "      <td>2590</td>\n",
              "      <td>2220</td>\n",
              "      <td>370</td>\n",
              "    </tr>\n",
              "    <tr>\n",
              "      <th>9</th>\n",
              "      <td>35</td>\n",
              "      <td>76</td>\n",
              "      <td>2660</td>\n",
              "      <td>2280</td>\n",
              "      <td>380</td>\n",
              "    </tr>\n",
              "    <tr>\n",
              "      <th>10</th>\n",
              "      <td>40</td>\n",
              "      <td>59</td>\n",
              "      <td>2360</td>\n",
              "      <td>1770</td>\n",
              "      <td>590</td>\n",
              "    </tr>\n",
              "    <tr>\n",
              "      <th>11</th>\n",
              "      <td>40</td>\n",
              "      <td>58</td>\n",
              "      <td>2320</td>\n",
              "      <td>1740</td>\n",
              "      <td>580</td>\n",
              "    </tr>\n",
              "    <tr>\n",
              "      <th>12</th>\n",
              "      <td>40</td>\n",
              "      <td>62</td>\n",
              "      <td>2480</td>\n",
              "      <td>1860</td>\n",
              "      <td>620</td>\n",
              "    </tr>\n",
              "    <tr>\n",
              "      <th>13</th>\n",
              "      <td>40</td>\n",
              "      <td>64</td>\n",
              "      <td>2560</td>\n",
              "      <td>1920</td>\n",
              "      <td>640</td>\n",
              "    </tr>\n",
              "    <tr>\n",
              "      <th>14</th>\n",
              "      <td>40</td>\n",
              "      <td>63</td>\n",
              "      <td>2520</td>\n",
              "      <td>1890</td>\n",
              "      <td>630</td>\n",
              "    </tr>\n",
              "    <tr>\n",
              "      <th>15</th>\n",
              "      <td>45</td>\n",
              "      <td>47</td>\n",
              "      <td>2115</td>\n",
              "      <td>1410</td>\n",
              "      <td>705</td>\n",
              "    </tr>\n",
              "    <tr>\n",
              "      <th>16</th>\n",
              "      <td>45</td>\n",
              "      <td>59</td>\n",
              "      <td>2655</td>\n",
              "      <td>1770</td>\n",
              "      <td>885</td>\n",
              "    </tr>\n",
              "    <tr>\n",
              "      <th>17</th>\n",
              "      <td>45</td>\n",
              "      <td>64</td>\n",
              "      <td>2880</td>\n",
              "      <td>1920</td>\n",
              "      <td>960</td>\n",
              "    </tr>\n",
              "    <tr>\n",
              "      <th>18</th>\n",
              "      <td>45</td>\n",
              "      <td>49</td>\n",
              "      <td>2205</td>\n",
              "      <td>1470</td>\n",
              "      <td>735</td>\n",
              "    </tr>\n",
              "    <tr>\n",
              "      <th>19</th>\n",
              "      <td>45</td>\n",
              "      <td>58</td>\n",
              "      <td>2610</td>\n",
              "      <td>1740</td>\n",
              "      <td>870</td>\n",
              "    </tr>\n",
              "    <tr>\n",
              "      <th>20</th>\n",
              "      <td>50</td>\n",
              "      <td>43</td>\n",
              "      <td>2150</td>\n",
              "      <td>1290</td>\n",
              "      <td>860</td>\n",
              "    </tr>\n",
              "    <tr>\n",
              "      <th>21</th>\n",
              "      <td>50</td>\n",
              "      <td>51</td>\n",
              "      <td>2550</td>\n",
              "      <td>1530</td>\n",
              "      <td>1020</td>\n",
              "    </tr>\n",
              "    <tr>\n",
              "      <th>22</th>\n",
              "      <td>50</td>\n",
              "      <td>46</td>\n",
              "      <td>2300</td>\n",
              "      <td>1380</td>\n",
              "      <td>920</td>\n",
              "    </tr>\n",
              "    <tr>\n",
              "      <th>23</th>\n",
              "      <td>50</td>\n",
              "      <td>49</td>\n",
              "      <td>2450</td>\n",
              "      <td>1470</td>\n",
              "      <td>980</td>\n",
              "    </tr>\n",
              "    <tr>\n",
              "      <th>24</th>\n",
              "      <td>50</td>\n",
              "      <td>47</td>\n",
              "      <td>2350</td>\n",
              "      <td>1410</td>\n",
              "      <td>940</td>\n",
              "    </tr>\n",
              "    <tr>\n",
              "      <th>25</th>\n",
              "      <td>55</td>\n",
              "      <td>32</td>\n",
              "      <td>1760</td>\n",
              "      <td>960</td>\n",
              "      <td>800</td>\n",
              "    </tr>\n",
              "    <tr>\n",
              "      <th>26</th>\n",
              "      <td>55</td>\n",
              "      <td>44</td>\n",
              "      <td>2420</td>\n",
              "      <td>1320</td>\n",
              "      <td>1100</td>\n",
              "    </tr>\n",
              "    <tr>\n",
              "      <th>27</th>\n",
              "      <td>55</td>\n",
              "      <td>57</td>\n",
              "      <td>3135</td>\n",
              "      <td>1710</td>\n",
              "      <td>1425</td>\n",
              "    </tr>\n",
              "    <tr>\n",
              "      <th>28</th>\n",
              "      <td>55</td>\n",
              "      <td>46</td>\n",
              "      <td>2530</td>\n",
              "      <td>1380</td>\n",
              "      <td>1150</td>\n",
              "    </tr>\n",
              "    <tr>\n",
              "      <th>29</th>\n",
              "      <td>55</td>\n",
              "      <td>40</td>\n",
              "      <td>2200</td>\n",
              "      <td>1200</td>\n",
              "      <td>1000</td>\n",
              "    </tr>\n",
              "    <tr>\n",
              "      <th>30</th>\n",
              "      <td>60</td>\n",
              "      <td>44</td>\n",
              "      <td>2640</td>\n",
              "      <td>1320</td>\n",
              "      <td>1320</td>\n",
              "    </tr>\n",
              "    <tr>\n",
              "      <th>31</th>\n",
              "      <td>60</td>\n",
              "      <td>36</td>\n",
              "      <td>2160</td>\n",
              "      <td>1080</td>\n",
              "      <td>1080</td>\n",
              "    </tr>\n",
              "    <tr>\n",
              "      <th>32</th>\n",
              "      <td>60</td>\n",
              "      <td>33</td>\n",
              "      <td>1980</td>\n",
              "      <td>990</td>\n",
              "      <td>990</td>\n",
              "    </tr>\n",
              "    <tr>\n",
              "      <th>33</th>\n",
              "      <td>60</td>\n",
              "      <td>45</td>\n",
              "      <td>2700</td>\n",
              "      <td>1350</td>\n",
              "      <td>1350</td>\n",
              "    </tr>\n",
              "    <tr>\n",
              "      <th>34</th>\n",
              "      <td>60</td>\n",
              "      <td>43</td>\n",
              "      <td>2580</td>\n",
              "      <td>1290</td>\n",
              "      <td>1290</td>\n",
              "    </tr>\n",
              "    <tr>\n",
              "      <th>35</th>\n",
              "      <td>65</td>\n",
              "      <td>43</td>\n",
              "      <td>2795</td>\n",
              "      <td>1290</td>\n",
              "      <td>1505</td>\n",
              "    </tr>\n",
              "    <tr>\n",
              "      <th>36</th>\n",
              "      <td>65</td>\n",
              "      <td>23</td>\n",
              "      <td>1495</td>\n",
              "      <td>690</td>\n",
              "      <td>805</td>\n",
              "    </tr>\n",
              "    <tr>\n",
              "      <th>37</th>\n",
              "      <td>65</td>\n",
              "      <td>41</td>\n",
              "      <td>2665</td>\n",
              "      <td>1230</td>\n",
              "      <td>1435</td>\n",
              "    </tr>\n",
              "    <tr>\n",
              "      <th>38</th>\n",
              "      <td>65</td>\n",
              "      <td>45</td>\n",
              "      <td>2925</td>\n",
              "      <td>1350</td>\n",
              "      <td>1575</td>\n",
              "    </tr>\n",
              "    <tr>\n",
              "      <th>39</th>\n",
              "      <td>65</td>\n",
              "      <td>37</td>\n",
              "      <td>2405</td>\n",
              "      <td>1110</td>\n",
              "      <td>1295</td>\n",
              "    </tr>\n",
              "    <tr>\n",
              "      <th>40</th>\n",
              "      <td>70</td>\n",
              "      <td>38</td>\n",
              "      <td>2660</td>\n",
              "      <td>1140</td>\n",
              "      <td>1520</td>\n",
              "    </tr>\n",
              "    <tr>\n",
              "      <th>41</th>\n",
              "      <td>70</td>\n",
              "      <td>24</td>\n",
              "      <td>1680</td>\n",
              "      <td>720</td>\n",
              "      <td>960</td>\n",
              "    </tr>\n",
              "    <tr>\n",
              "      <th>42</th>\n",
              "      <td>70</td>\n",
              "      <td>37</td>\n",
              "      <td>2590</td>\n",
              "      <td>1110</td>\n",
              "      <td>1480</td>\n",
              "    </tr>\n",
              "    <tr>\n",
              "      <th>43</th>\n",
              "      <td>70</td>\n",
              "      <td>22</td>\n",
              "      <td>1540</td>\n",
              "      <td>660</td>\n",
              "      <td>880</td>\n",
              "    </tr>\n",
              "    <tr>\n",
              "      <th>44</th>\n",
              "      <td>70</td>\n",
              "      <td>30</td>\n",
              "      <td>2100</td>\n",
              "      <td>900</td>\n",
              "      <td>1200</td>\n",
              "    </tr>\n",
              "  </tbody>\n",
              "</table>\n",
              "</div>\n",
              "      <button class=\"colab-df-convert\" onclick=\"convertToInteractive('df-10e8e327-8615-4279-a028-9cc5c18cbf97')\"\n",
              "              title=\"Convert this dataframe to an interactive table.\"\n",
              "              style=\"display:none;\">\n",
              "        \n",
              "  <svg xmlns=\"http://www.w3.org/2000/svg\" height=\"24px\"viewBox=\"0 0 24 24\"\n",
              "       width=\"24px\">\n",
              "    <path d=\"M0 0h24v24H0V0z\" fill=\"none\"/>\n",
              "    <path d=\"M18.56 5.44l.94 2.06.94-2.06 2.06-.94-2.06-.94-.94-2.06-.94 2.06-2.06.94zm-11 1L8.5 8.5l.94-2.06 2.06-.94-2.06-.94L8.5 2.5l-.94 2.06-2.06.94zm10 10l.94 2.06.94-2.06 2.06-.94-2.06-.94-.94-2.06-.94 2.06-2.06.94z\"/><path d=\"M17.41 7.96l-1.37-1.37c-.4-.4-.92-.59-1.43-.59-.52 0-1.04.2-1.43.59L10.3 9.45l-7.72 7.72c-.78.78-.78 2.05 0 2.83L4 21.41c.39.39.9.59 1.41.59.51 0 1.02-.2 1.41-.59l7.78-7.78 2.81-2.81c.8-.78.8-2.07 0-2.86zM5.41 20L4 18.59l7.72-7.72 1.47 1.35L5.41 20z\"/>\n",
              "  </svg>\n",
              "      </button>\n",
              "      \n",
              "  <style>\n",
              "    .colab-df-container {\n",
              "      display:flex;\n",
              "      flex-wrap:wrap;\n",
              "      gap: 12px;\n",
              "    }\n",
              "\n",
              "    .colab-df-convert {\n",
              "      background-color: #E8F0FE;\n",
              "      border: none;\n",
              "      border-radius: 50%;\n",
              "      cursor: pointer;\n",
              "      display: none;\n",
              "      fill: #1967D2;\n",
              "      height: 32px;\n",
              "      padding: 0 0 0 0;\n",
              "      width: 32px;\n",
              "    }\n",
              "\n",
              "    .colab-df-convert:hover {\n",
              "      background-color: #E2EBFA;\n",
              "      box-shadow: 0px 1px 2px rgba(60, 64, 67, 0.3), 0px 1px 3px 1px rgba(60, 64, 67, 0.15);\n",
              "      fill: #174EA6;\n",
              "    }\n",
              "\n",
              "    [theme=dark] .colab-df-convert {\n",
              "      background-color: #3B4455;\n",
              "      fill: #D2E3FC;\n",
              "    }\n",
              "\n",
              "    [theme=dark] .colab-df-convert:hover {\n",
              "      background-color: #434B5C;\n",
              "      box-shadow: 0px 1px 3px 1px rgba(0, 0, 0, 0.15);\n",
              "      filter: drop-shadow(0px 1px 2px rgba(0, 0, 0, 0.3));\n",
              "      fill: #FFFFFF;\n",
              "    }\n",
              "  </style>\n",
              "\n",
              "      <script>\n",
              "        const buttonEl =\n",
              "          document.querySelector('#df-10e8e327-8615-4279-a028-9cc5c18cbf97 button.colab-df-convert');\n",
              "        buttonEl.style.display =\n",
              "          google.colab.kernel.accessAllowed ? 'block' : 'none';\n",
              "\n",
              "        async function convertToInteractive(key) {\n",
              "          const element = document.querySelector('#df-10e8e327-8615-4279-a028-9cc5c18cbf97');\n",
              "          const dataTable =\n",
              "            await google.colab.kernel.invokeFunction('convertToInteractive',\n",
              "                                                     [key], {});\n",
              "          if (!dataTable) return;\n",
              "\n",
              "          const docLinkHtml = 'Like what you see? Visit the ' +\n",
              "            '<a target=\"_blank\" href=https://colab.research.google.com/notebooks/data_table.ipynb>data table notebook</a>'\n",
              "            + ' to learn more about interactive tables.';\n",
              "          element.innerHTML = '';\n",
              "          dataTable['output_type'] = 'display_data';\n",
              "          await google.colab.output.renderOutput(dataTable, element);\n",
              "          const docLink = document.createElement('div');\n",
              "          docLink.innerHTML = docLinkHtml;\n",
              "          element.appendChild(docLink);\n",
              "        }\n",
              "      </script>\n",
              "    </div>\n",
              "  </div>\n",
              "  "
            ]
          },
          "metadata": {},
          "execution_count": 22
        }
      ]
    },
    {
      "cell_type": "code",
      "source": [
        "ax = df_ped.plot.scatter(x='price', y='demand', legend=False, color='tab:orange', marker='.', )\n",
        "ax2 = ax.twinx()\n",
        "df_ped.plot.scatter(x='price', y='revenue', ax=ax2, legend=False, color='tab:blue', marker='.')\n",
        "df_ped.plot.scatter(x='price', y='profit', ax=ax2, legend=False, color='tab:pink', marker='.')\n",
        "ax.figure.legend()\n"
      ],
      "metadata": {
        "colab": {
          "base_uri": "https://localhost:8080/",
          "height": 345
        },
        "id": "tPTAP2z214RR",
        "outputId": "dfefd144-8358-4432-b6ca-e434320345ae"
      },
      "execution_count": null,
      "outputs": [
        {
          "output_type": "stream",
          "name": "stderr",
          "text": [
            "WARNING:matplotlib.legend:No handles with labels found to put in legend.\n"
          ]
        },
        {
          "output_type": "execute_result",
          "data": {
            "text/plain": [
              "<matplotlib.legend.Legend at 0x7f7fe4516f90>"
            ]
          },
          "metadata": {},
          "execution_count": 23
        },
        {
          "output_type": "display_data",
          "data": {
            "text/plain": [
              "<Figure size 432x288 with 2 Axes>"
            ],
            "image/png": "[encoded data removed]"
          },
          "metadata": {
            "needs_background": "light"
          }
        }
      ]
    },
    {
      "cell_type": "code",
      "source": [
        "# 관측치로부터 수요곡선(theta) 를 추정하는데는 여러 방법이 있을 수 있다. \n",
        "# 간편한 statsmodels 라이브러리의 회귀모형을 써보도록 하자.\n",
        "\n",
        "# https://www.statsmodels.org/stable/index.html\n",
        "# https://www.statsmodels.org/stable/regression.html\n",
        "\n",
        "import statsmodels.formula.api as sm\n",
        "\n",
        "# Linear Regression (OLS - Ordinary Least Square)\n",
        "result = sm.ols(formula='demand ~ price', data=df_ped).fit()\n",
        "print(result.summary())\n"
      ],
      "metadata": {
        "id": "RGPZVXuv4rsQ",
        "colab": {
          "base_uri": "https://localhost:8080/"
        },
        "outputId": "7529d346-303f-4e56-d49e-95b4ba7fa2d6"
      },
      "execution_count": null,
      "outputs": [
        {
          "output_type": "stream",
          "name": "stdout",
          "text": [
            "                            OLS Regression Results                            \n",
            "==============================================================================\n",
            "Dep. Variable:                 demand   R-squared:                       0.831\n",
            "Model:                            OLS   Adj. R-squared:                  0.827\n",
            "Method:                 Least Squares   F-statistic:                     211.8\n",
            "Date:                Thu, 01 Sep 2022   Prob (F-statistic):           3.21e-18\n",
            "Time:                        09:16:26   Log-Likelihood:                -148.98\n",
            "No. Observations:                  45   AIC:                             302.0\n",
            "Df Residuals:                      43   BIC:                             305.6\n",
            "Df Model:                           1                                         \n",
            "Covariance Type:            nonrobust                                         \n",
            "==============================================================================\n",
            "                 coef    std err          t      P>|t|      [0.025      0.975]\n",
            "------------------------------------------------------------------------------\n",
            "Intercept    108.6889      4.045     26.871      0.000     100.532     116.846\n",
            "price         -1.1400      0.078    -14.554      0.000      -1.298      -0.982\n",
            "==============================================================================\n",
            "Omnibus:                        2.021   Durbin-Watson:                   2.032\n",
            "Prob(Omnibus):                  0.364   Jarque-Bera (JB):                1.246\n",
            "Skew:                           0.018   Prob(JB):                        0.536\n",
            "Kurtosis:                       2.186   Cond. No.                         207.\n",
            "==============================================================================\n",
            "\n",
            "Notes:\n",
            "[1] Standard Errors assume that the covariance matrix of the errors is correctly specified.\n"
          ]
        }
      ]
    },
    {
      "cell_type": "code",
      "source": [
        "theta0 = result.params[0]\n",
        "theta1 = result.params[1]\n",
        "\n",
        "print('theta0 : ', theta0)\n",
        "print('theta1 : ', theta1)\n",
        "\n",
        "optimal_p_for_revenue = -1/2 * theta0 / theta1\n",
        "print(optimal_p_for_revenue)\n",
        "\n",
        "optimal_p_for_profit = -1/2 * (theta0 - theta1 * unit_cost) / theta1\n",
        "print(optimal_p_for_profit)\n"
      ],
      "metadata": {
        "id": "LBdXrsD87dOi",
        "colab": {
          "base_uri": "https://localhost:8080/"
        },
        "outputId": "37947d21-2989-472f-cda3-cb90cbae5d54"
      },
      "execution_count": null,
      "outputs": [
        {
          "output_type": "stream",
          "name": "stdout",
          "text": [
            "theta0 :  108.68888888888894\n",
            "theta1 :  -1.1399999999999997\n",
            "47.67056530214428\n",
            "62.670565302144276\n"
          ]
        }
      ]
    },
    {
      "cell_type": "code",
      "source": [
        "# 예측문제를 해결하는데엔 머신러닝이 잘 어울린다 \n",
        "# 가장 대중적인 scikit-learn 을 사용해보자 \n",
        "\n",
        "# https://scikit-learn.org/stable/\n",
        "# 여기서는 해석가능성에 중점을 두고 있기 때문에 Linear Regression을 사용 \n",
        "# 예측성능이 더 중요한 경우는 다양한 피쳐를 활용해 트리 앙상블 모델 같은것들을 사용해보는것도 좋다\n",
        "\n",
        "from sklearn.linear_model import LinearRegression\n",
        "model = LinearRegression()\n",
        "x = df_ped['price'].values.reshape(-1, 1)\n",
        "y = df_ped['demand'].values.reshape(-1, 1)\n",
        "model.fit(x, y)\n",
        "print(model.coef_)\n",
        "print(model.intercept_)\n",
        "\n",
        "r_sq = model.score(x, y)\n",
        "print(r_sq)\n"
      ],
      "metadata": {
        "colab": {
          "base_uri": "https://localhost:8080/"
        },
        "id": "cY8dEW9w2qZT",
        "outputId": "6dfea651-ff60-421f-b150-f340483cfd84"
      },
      "execution_count": null,
      "outputs": [
        {
          "output_type": "stream",
          "name": "stdout",
          "text": [
            "[[-1.14]]\n",
            "[108.68888889]\n",
            "0.8312549511611776\n"
          ]
        }
      ]
    },
    {
      "cell_type": "markdown",
      "source": [
        "## 연습\n",
        "\n",
        "만약 관측값이 더 넓게 분포되어있다면 추정치를 믿을 수 있을까?\n",
        "그런 상황에서는 어떻게 해야할까?"
      ],
      "metadata": {
        "id": "OMPH9iU0PEYB"
      }
    },
    {
      "cell_type": "markdown",
      "source": [
        "## 정리\n",
        "첫번째 실습은 몸풀기로 기본적인 형태의 실습을 진행해보았습니다. 다음번에는 실전 상황에서 마주칠 수 있는 복잡한 상황을 재현시켜보며 실습이 진행됩니다."
      ],
      "metadata": {
        "id": "jmMmYoLoS4X_"
      }
    },
    {
      "cell_type": "code",
      "source": [],
      "metadata": {
        "id": "wM1lO4IKA9ue"
      },
      "execution_count": null,
      "outputs": []
    }
  ]
}